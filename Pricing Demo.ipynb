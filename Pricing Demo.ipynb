{
 "cells": [
  {
   "cell_type": "code",
   "execution_count": 15,
   "metadata": {},
   "outputs": [],
   "source": [
    "from poandy.controller.account import AccountController\n",
    "from poandy.controller.pricing import PricingController"
   ]
  },
  {
   "cell_type": "markdown",
   "metadata": {},
   "source": [
    "# get_pricing\n",
    "Get pricing for a specified list of instruments within an account\n",
    "\n",
    "## account_id: (str), required\n",
    "\n",
    "\n",
    "## instruments: List[str], required\n",
    " A list of strings describing the instruments\n",
    " \n",
    " \n",
    " Each string should contain the base currency and quote currency separated by a “_”.\n",
    " \n",
    " ## since: str, optional\n",
    " Used as a filter for prices and home conversions that occur later than this time.\n",
    " \n",
    " Must be provided in Unix time. Python has a builtin module (datetime) for easy conversion to Unix time\n",
    " \n",
    " \n",
    " ## includeUnitsAvailable: (boolean), optional\n",
    " Flag that enables the inclusion of the unitsAvailable field in the returned Price objects. [default=True] \n",
    " \n",
    " ## includeHomeConversion: (boolean), optional\n",
    " Flag that enables the inclusion of the homeConversions field in the returned response. An entry will be returned for each currency in the set of all base and quote currencies present in the requested instruments list. [default=False] "
   ]
  },
  {
   "cell_type": "code",
   "execution_count": 2,
   "metadata": {},
   "outputs": [],
   "source": [
    "account_id = AccountController.get_default_account_id()\n",
    "pricing = PricingController.get_pricing(account_id, [\"EUR_USD\", \"USD_CAD\"])\n"
   ]
  },
  {
   "cell_type": "code",
   "execution_count": 3,
   "metadata": {},
   "outputs": [
    {
     "data": {
      "text/plain": [
       "{'time': '1603150184.532499481',\n",
       " 'prices': [{'type': 'PRICE',\n",
       "   'time': '1603150167.308086561',\n",
       "   'bids': [{'price': '1.17679', 'liquidity': 1000000},\n",
       "    {'price': '1.17678', 'liquidity': 2000000},\n",
       "    {'price': '1.17677', 'liquidity': 2000000},\n",
       "    {'price': '1.17675', 'liquidity': 5000000}],\n",
       "   'asks': [{'price': '1.17687', 'liquidity': 1000000},\n",
       "    {'price': '1.17689', 'liquidity': 2000000},\n",
       "    {'price': '1.17690', 'liquidity': 2000000},\n",
       "    {'price': '1.17691', 'liquidity': 5000000}],\n",
       "   'closeoutBid': '1.17675',\n",
       "   'closeoutAsk': '1.17691',\n",
       "   'status': 'tradeable',\n",
       "   'tradeable': True,\n",
       "   'unitsAvailable': {'default': {'long': '1250985', 'short': '1250985'},\n",
       "    'openOnly': {'long': '1250985', 'short': '1250985'},\n",
       "    'reduceFirst': {'long': '1250985', 'short': '1250985'},\n",
       "    'reduceOnly': {'long': '0', 'short': '0'}},\n",
       "   'instrument': 'EUR_USD'},\n",
       "  {'type': 'PRICE',\n",
       "   'time': '1603150175.130170499',\n",
       "   'bids': [{'price': '1.31896', 'liquidity': 1000000},\n",
       "    {'price': '1.31895', 'liquidity': 2000000},\n",
       "    {'price': '1.31894', 'liquidity': 2000000},\n",
       "    {'price': '1.31892', 'liquidity': 5000000}],\n",
       "   'asks': [{'price': '1.31910', 'liquidity': 1000000},\n",
       "    {'price': '1.31912', 'liquidity': 4000000},\n",
       "    {'price': '1.31915', 'liquidity': 5000000}],\n",
       "   'closeoutBid': '1.31892',\n",
       "   'closeoutAsk': '1.31915',\n",
       "   'status': 'tradeable',\n",
       "   'tradeable': True,\n",
       "   'unitsAvailable': {'default': {'long': '1472201', 'short': '1472201'},\n",
       "    'openOnly': {'long': '1472201', 'short': '1472201'},\n",
       "    'reduceFirst': {'long': '1472201', 'short': '1472201'},\n",
       "    'reduceOnly': {'long': '0', 'short': '0'}},\n",
       "   'instrument': 'USD_CAD'}]}"
      ]
     },
     "execution_count": 3,
     "metadata": {},
     "output_type": "execute_result"
    }
   ],
   "source": [
    "pricing"
   ]
  },
  {
   "cell_type": "code",
   "execution_count": 11,
   "metadata": {},
   "outputs": [],
   "source": [
    "pricing = PricingController.get_pricing(account_id, [\"SGD_JPY\"], includeHomeConversions=True)"
   ]
  },
  {
   "cell_type": "code",
   "execution_count": 12,
   "metadata": {},
   "outputs": [
    {
     "data": {
      "text/plain": [
       "{'time': '1603150722.215689356',\n",
       " 'prices': [{'type': 'PRICE',\n",
       "   'time': '1603150721.447428443',\n",
       "   'bids': [{'price': '77.610', 'liquidity': 3000000},\n",
       "    {'price': '77.609', 'liquidity': 2000000}],\n",
       "   'asks': [{'price': '77.632', 'liquidity': 3000000},\n",
       "    {'price': '77.633', 'liquidity': 2000000}],\n",
       "   'closeoutBid': '77.609',\n",
       "   'closeoutAsk': '77.633',\n",
       "   'status': 'tradeable',\n",
       "   'tradeable': True,\n",
       "   'unitsAvailable': {'default': {'long': '2000000', 'short': '2000000'},\n",
       "    'openOnly': {'long': '2000000', 'short': '2000000'},\n",
       "    'reduceFirst': {'long': '2000000', 'short': '2000000'},\n",
       "    'reduceOnly': {'long': '0', 'short': '0'}},\n",
       "   'instrument': 'SGD_JPY'}],\n",
       " 'homeConversions': [{'currency': 'SGD',\n",
       "   'accountGain': '1',\n",
       "   'accountLoss': '1',\n",
       "   'positionValue': '1'},\n",
       "  {'currency': 'JPY',\n",
       "   'accountGain': '0.012818696278',\n",
       "   'accountLoss': '0.012947527396',\n",
       "   'positionValue': '0.012883111837'}]}"
      ]
     },
     "execution_count": 12,
     "metadata": {},
     "output_type": "execute_result"
    }
   ],
   "source": [
    "pricing"
   ]
  },
  {
   "cell_type": "markdown",
   "metadata": {},
   "source": [
    "# get_latest_candles\n",
    "Get dancing bears and most recently completed candles within an Account for specified combinations of instrument, granularity and price component.\n",
    "\n",
    "## Params\n",
    "\n",
    "\n",
    "## account_id     (str) , required     \n",
    "  self explanatory \n",
    "\n",
    "## candleSpecifications: (List[str]), required\n",
    "A list containing CandleSpecification(s)(string) \n",
    "\n",
    "\n",
    "\n",
    "\n",
    "## units: \t(int) , optional\n",
    "The number of units used to calculate the volume-weighted average bid and ask prices in the returned candles. [default=1]\n",
    "\n",
    "\n",
    "\n",
    "\n",
    "## smooth: (boolean) , optional\t\n",
    "A flag that controls whether the candlestick is “smoothed” or not. A smoothed candlestick uses the previous candle’s close price as its open price, while an unsmoothed candlestick uses the first price from its time range as its open price. [default=False]\n",
    "\n",
    "\n",
    "\n",
    "\n",
    "## dailyAlignment: (int), optional\n",
    "The hour of the day (in the specified timezone) to use for granularities that have daily alignments. [default=17, minimum=0, maximum=23]\n",
    "\n",
    "\n",
    "\n",
    "\n",
    "## alignmentTimezone: \t(str) , optional\n",
    "The timezone to use for the dailyAlignment parameter. Candlesticks with daily alignment will be aligned to the dailyAlignment hour within the alignmentTimezone. Note that the returned times will still be represented in UTC. [default=America/New_York]\n",
    "\n",
    "\n",
    "\n",
    "\n",
    "## weeklyAlignment:  (str)  , optional\n",
    "WeeklyAlignment \tThe day of the week used for granularities that have weekly alignment. [default=Friday] \n"
   ]
  },
  {
   "cell_type": "code",
   "execution_count": 13,
   "metadata": {},
   "outputs": [],
   "source": [
    "latest_candles = PricingController.get_latest_candles(account_id, [\"EUR_USD:S10:BM\"])"
   ]
  },
  {
   "cell_type": "code",
   "execution_count": 14,
   "metadata": {},
   "outputs": [
    {
     "data": {
      "text/plain": [
       "{'latestCandles': [{'instrument': 'EUR_USD',\n",
       "   'granularity': 'S10',\n",
       "   'candles': [{'complete': True,\n",
       "     'volume': 1,\n",
       "     'time': '1603151610.000000000',\n",
       "     'bid': {'o': '1.17680', 'h': '1.17680', 'l': '1.17680', 'c': '1.17680'},\n",
       "     'mid': {'o': '1.17686', 'h': '1.17686', 'l': '1.17686', 'c': '1.17686'}},\n",
       "    {'complete': False,\n",
       "     'volume': 3,\n",
       "     'time': '1603151660.000000000',\n",
       "     'bid': {'o': '1.17680', 'h': '1.17680', 'l': '1.17679', 'c': '1.17680'},\n",
       "     'mid': {'o': '1.17684',\n",
       "      'h': '1.17684',\n",
       "      'l': '1.17682',\n",
       "      'c': '1.17684'}}]}]}"
      ]
     },
     "execution_count": 14,
     "metadata": {},
     "output_type": "execute_result"
    }
   ],
   "source": [
    "latest_candles"
   ]
  },
  {
   "cell_type": "code",
   "execution_count": null,
   "metadata": {},
   "outputs": [],
   "source": []
  }
 ],
 "metadata": {
  "kernelspec": {
   "display_name": "Python 3",
   "language": "python",
   "name": "python3"
  },
  "language_info": {
   "codemirror_mode": {
    "name": "ipython",
    "version": 3
   },
   "file_extension": ".py",
   "mimetype": "text/x-python",
   "name": "python",
   "nbconvert_exporter": "python",
   "pygments_lexer": "ipython3",
   "version": "3.8.5"
  }
 },
 "nbformat": 4,
 "nbformat_minor": 4
}
